{
 "cells": [
  {
   "cell_type": "markdown",
   "metadata": {},
   "source": [
    "Adult Dataset - Domain\n",
    "===================\n",
    "\n",
    "In this notebook, we infer the domain of the attributes of the adult dataset."
   ]
  },
  {
   "cell_type": "code",
   "execution_count": 1,
   "metadata": {
    "ExecuteTime": {
     "end_time": "2021-08-03T09:48:30.050748Z",
     "start_time": "2021-08-03T09:48:29.820638Z"
    }
   },
   "outputs": [],
   "source": [
    "import json\n",
    "from pathlib import Path\n",
    "\n",
    "import numpy as np\n",
    "import pandas as pd"
   ]
  },
  {
   "cell_type": "markdown",
   "metadata": {},
   "source": [
    "### Read the dataset\n",
    "\n",
    "**TODO**: please configure `DATA_PATH`."
   ]
  },
  {
   "cell_type": "code",
   "execution_count": 2,
   "metadata": {
    "ExecuteTime": {
     "end_time": "2021-08-03T09:48:31.177776Z",
     "start_time": "2021-08-03T09:48:31.062340Z"
    }
   },
   "outputs": [
    {
     "data": {
      "text/html": [
       "<div>\n",
       "<style scoped>\n",
       "    .dataframe tbody tr th:only-of-type {\n",
       "        vertical-align: middle;\n",
       "    }\n",
       "\n",
       "    .dataframe tbody tr th {\n",
       "        vertical-align: top;\n",
       "    }\n",
       "\n",
       "    .dataframe thead th {\n",
       "        text-align: right;\n",
       "    }\n",
       "</style>\n",
       "<table border=\"1\" class=\"dataframe\">\n",
       "  <thead>\n",
       "    <tr style=\"text-align: right;\">\n",
       "      <th></th>\n",
       "      <th>age</th>\n",
       "      <th>workclass</th>\n",
       "      <th>fnlwgt</th>\n",
       "      <th>education</th>\n",
       "      <th>education-num</th>\n",
       "      <th>marital-status</th>\n",
       "      <th>occupation</th>\n",
       "      <th>relationship</th>\n",
       "      <th>race</th>\n",
       "      <th>sex</th>\n",
       "      <th>capital-gain</th>\n",
       "      <th>capital-loss</th>\n",
       "      <th>hours-per-week</th>\n",
       "      <th>native-country</th>\n",
       "      <th>salary</th>\n",
       "    </tr>\n",
       "  </thead>\n",
       "  <tbody>\n",
       "    <tr>\n",
       "      <th>14878</th>\n",
       "      <td>31</td>\n",
       "      <td>Private</td>\n",
       "      <td>234500</td>\n",
       "      <td>Bachelors</td>\n",
       "      <td>13</td>\n",
       "      <td>Married-civ-spouse</td>\n",
       "      <td>Adm-clerical</td>\n",
       "      <td>Wife</td>\n",
       "      <td>White</td>\n",
       "      <td>Female</td>\n",
       "      <td>0</td>\n",
       "      <td>0</td>\n",
       "      <td>40</td>\n",
       "      <td>United-States</td>\n",
       "      <td>&lt;=50K</td>\n",
       "    </tr>\n",
       "    <tr>\n",
       "      <th>15419</th>\n",
       "      <td>28</td>\n",
       "      <td>Private</td>\n",
       "      <td>139903</td>\n",
       "      <td>Bachelors</td>\n",
       "      <td>13</td>\n",
       "      <td>Never-married</td>\n",
       "      <td>Machine-op-inspct</td>\n",
       "      <td>Unmarried</td>\n",
       "      <td>Black</td>\n",
       "      <td>Female</td>\n",
       "      <td>0</td>\n",
       "      <td>0</td>\n",
       "      <td>40</td>\n",
       "      <td>United-States</td>\n",
       "      <td>&lt;=50K</td>\n",
       "    </tr>\n",
       "    <tr>\n",
       "      <th>19533</th>\n",
       "      <td>26</td>\n",
       "      <td>Private</td>\n",
       "      <td>86483</td>\n",
       "      <td>Some-college</td>\n",
       "      <td>10</td>\n",
       "      <td>Never-married</td>\n",
       "      <td>Exec-managerial</td>\n",
       "      <td>Not-in-family</td>\n",
       "      <td>White</td>\n",
       "      <td>Female</td>\n",
       "      <td>0</td>\n",
       "      <td>0</td>\n",
       "      <td>40</td>\n",
       "      <td>United-States</td>\n",
       "      <td>&lt;=50K</td>\n",
       "    </tr>\n",
       "    <tr>\n",
       "      <th>9984</th>\n",
       "      <td>28</td>\n",
       "      <td>Private</td>\n",
       "      <td>118861</td>\n",
       "      <td>10th</td>\n",
       "      <td>6</td>\n",
       "      <td>Married-civ-spouse</td>\n",
       "      <td>Craft-repair</td>\n",
       "      <td>Wife</td>\n",
       "      <td>Other</td>\n",
       "      <td>Female</td>\n",
       "      <td>0</td>\n",
       "      <td>0</td>\n",
       "      <td>48</td>\n",
       "      <td>Guatemala</td>\n",
       "      <td>&lt;=50K</td>\n",
       "    </tr>\n",
       "    <tr>\n",
       "      <th>9780</th>\n",
       "      <td>49</td>\n",
       "      <td>Federal-gov</td>\n",
       "      <td>105586</td>\n",
       "      <td>Assoc-voc</td>\n",
       "      <td>11</td>\n",
       "      <td>Married-civ-spouse</td>\n",
       "      <td>Craft-repair</td>\n",
       "      <td>Husband</td>\n",
       "      <td>Asian-Pac-Islander</td>\n",
       "      <td>Male</td>\n",
       "      <td>0</td>\n",
       "      <td>0</td>\n",
       "      <td>40</td>\n",
       "      <td>United-States</td>\n",
       "      <td>&gt;50K</td>\n",
       "    </tr>\n",
       "    <tr>\n",
       "      <th>26563</th>\n",
       "      <td>50</td>\n",
       "      <td>Private</td>\n",
       "      <td>198362</td>\n",
       "      <td>Assoc-voc</td>\n",
       "      <td>11</td>\n",
       "      <td>Widowed</td>\n",
       "      <td>Exec-managerial</td>\n",
       "      <td>Unmarried</td>\n",
       "      <td>White</td>\n",
       "      <td>Female</td>\n",
       "      <td>0</td>\n",
       "      <td>0</td>\n",
       "      <td>40</td>\n",
       "      <td>United-States</td>\n",
       "      <td>&lt;=50K</td>\n",
       "    </tr>\n",
       "    <tr>\n",
       "      <th>13022</th>\n",
       "      <td>54</td>\n",
       "      <td>Private</td>\n",
       "      <td>257765</td>\n",
       "      <td>7th-8th</td>\n",
       "      <td>4</td>\n",
       "      <td>Divorced</td>\n",
       "      <td>Machine-op-inspct</td>\n",
       "      <td>Not-in-family</td>\n",
       "      <td>White</td>\n",
       "      <td>Male</td>\n",
       "      <td>0</td>\n",
       "      <td>0</td>\n",
       "      <td>40</td>\n",
       "      <td>Guatemala</td>\n",
       "      <td>&lt;=50K</td>\n",
       "    </tr>\n",
       "    <tr>\n",
       "      <th>28393</th>\n",
       "      <td>35</td>\n",
       "      <td>Private</td>\n",
       "      <td>35945</td>\n",
       "      <td>Bachelors</td>\n",
       "      <td>13</td>\n",
       "      <td>Married-civ-spouse</td>\n",
       "      <td>Exec-managerial</td>\n",
       "      <td>Husband</td>\n",
       "      <td>White</td>\n",
       "      <td>Male</td>\n",
       "      <td>0</td>\n",
       "      <td>0</td>\n",
       "      <td>40</td>\n",
       "      <td>United-States</td>\n",
       "      <td>&gt;50K</td>\n",
       "    </tr>\n",
       "    <tr>\n",
       "      <th>292</th>\n",
       "      <td>29</td>\n",
       "      <td>Local-gov</td>\n",
       "      <td>220419</td>\n",
       "      <td>Bachelors</td>\n",
       "      <td>13</td>\n",
       "      <td>Never-married</td>\n",
       "      <td>Protective-serv</td>\n",
       "      <td>Not-in-family</td>\n",
       "      <td>White</td>\n",
       "      <td>Male</td>\n",
       "      <td>0</td>\n",
       "      <td>0</td>\n",
       "      <td>56</td>\n",
       "      <td>United-States</td>\n",
       "      <td>&lt;=50K</td>\n",
       "    </tr>\n",
       "    <tr>\n",
       "      <th>8819</th>\n",
       "      <td>24</td>\n",
       "      <td>Private</td>\n",
       "      <td>207940</td>\n",
       "      <td>HS-grad</td>\n",
       "      <td>9</td>\n",
       "      <td>Married-civ-spouse</td>\n",
       "      <td>Other-service</td>\n",
       "      <td>Wife</td>\n",
       "      <td>White</td>\n",
       "      <td>Female</td>\n",
       "      <td>0</td>\n",
       "      <td>0</td>\n",
       "      <td>30</td>\n",
       "      <td>United-States</td>\n",
       "      <td>&lt;=50K</td>\n",
       "    </tr>\n",
       "  </tbody>\n",
       "</table>\n",
       "</div>"
      ],
      "text/plain": [
       "       age    workclass  fnlwgt     education  education-num  \\\n",
       "14878   31      Private  234500     Bachelors             13   \n",
       "15419   28      Private  139903     Bachelors             13   \n",
       "19533   26      Private   86483  Some-college             10   \n",
       "9984    28      Private  118861          10th              6   \n",
       "9780    49  Federal-gov  105586     Assoc-voc             11   \n",
       "26563   50      Private  198362     Assoc-voc             11   \n",
       "13022   54      Private  257765       7th-8th              4   \n",
       "28393   35      Private   35945     Bachelors             13   \n",
       "292     29    Local-gov  220419     Bachelors             13   \n",
       "8819    24      Private  207940       HS-grad              9   \n",
       "\n",
       "           marital-status         occupation   relationship  \\\n",
       "14878  Married-civ-spouse       Adm-clerical           Wife   \n",
       "15419       Never-married  Machine-op-inspct      Unmarried   \n",
       "19533       Never-married    Exec-managerial  Not-in-family   \n",
       "9984   Married-civ-spouse       Craft-repair           Wife   \n",
       "9780   Married-civ-spouse       Craft-repair        Husband   \n",
       "26563             Widowed    Exec-managerial      Unmarried   \n",
       "13022            Divorced  Machine-op-inspct  Not-in-family   \n",
       "28393  Married-civ-spouse    Exec-managerial        Husband   \n",
       "292         Never-married    Protective-serv  Not-in-family   \n",
       "8819   Married-civ-spouse      Other-service           Wife   \n",
       "\n",
       "                     race     sex  capital-gain  capital-loss  hours-per-week  \\\n",
       "14878               White  Female             0             0              40   \n",
       "15419               Black  Female             0             0              40   \n",
       "19533               White  Female             0             0              40   \n",
       "9984                Other  Female             0             0              48   \n",
       "9780   Asian-Pac-Islander    Male             0             0              40   \n",
       "26563               White  Female             0             0              40   \n",
       "13022               White    Male             0             0              40   \n",
       "28393               White    Male             0             0              40   \n",
       "292                 White    Male             0             0              56   \n",
       "8819                White  Female             0             0              30   \n",
       "\n",
       "      native-country salary  \n",
       "14878  United-States  <=50K  \n",
       "15419  United-States  <=50K  \n",
       "19533  United-States  <=50K  \n",
       "9984       Guatemala  <=50K  \n",
       "9780   United-States   >50K  \n",
       "26563  United-States  <=50K  \n",
       "13022      Guatemala  <=50K  \n",
       "28393  United-States   >50K  \n",
       "292    United-States  <=50K  \n",
       "8819   United-States  <=50K  "
      ]
     },
     "execution_count": 2,
     "metadata": {},
     "output_type": "execute_result"
    }
   ],
   "source": [
    "DATA_PATH = Path('/home/nap/Workspace/Privacy-DARC/rmckenna/data')  # Where to save the domain informations\n",
    "ADULT_DATASET_PATH = DATA_PATH / Path('adult.csv')\n",
    "\n",
    "df = pd.read_csv(ADULT_DATASET_PATH)\n",
    "df.sample(10)"
   ]
  },
  {
   "cell_type": "markdown",
   "metadata": {},
   "source": [
    "### Infer the columns (= attributes)"
   ]
  },
  {
   "cell_type": "code",
   "execution_count": 3,
   "metadata": {
    "ExecuteTime": {
     "end_time": "2021-08-03T09:48:33.524555Z",
     "start_time": "2021-08-03T09:48:33.518230Z"
    }
   },
   "outputs": [
    {
     "data": {
      "text/plain": [
       "['age',\n",
       " 'workclass',\n",
       " 'fnlwgt',\n",
       " 'education',\n",
       " 'education-num',\n",
       " 'marital-status',\n",
       " 'occupation',\n",
       " 'relationship',\n",
       " 'race',\n",
       " 'sex',\n",
       " 'capital-gain',\n",
       " 'capital-loss',\n",
       " 'hours-per-week',\n",
       " 'native-country',\n",
       " 'salary']"
      ]
     },
     "execution_count": 3,
     "metadata": {},
     "output_type": "execute_result"
    }
   ],
   "source": [
    "columns = list(df.columns)\n",
    "columns"
   ]
  },
  {
   "cell_type": "markdown",
   "metadata": {},
   "source": [
    "### Infer the domain of each attribute\n",
    "\n",
    "Note that the attributes are considered as being categorical."
   ]
  },
  {
   "cell_type": "code",
   "execution_count": 4,
   "metadata": {
    "ExecuteTime": {
     "end_time": "2021-08-03T09:48:35.806144Z",
     "start_time": "2021-08-03T09:48:35.742720Z"
    },
    "scrolled": true
   },
   "outputs": [
    {
     "name": "stdout",
     "output_type": "stream",
     "text": [
      "age has 73 distinct values\n",
      "workclass has 9 distinct values\n",
      "fnlwgt has 21648 distinct values\n",
      "education has 16 distinct values\n",
      "education-num has 16 distinct values\n",
      "marital-status has 7 distinct values\n",
      "occupation has 15 distinct values\n",
      "relationship has 6 distinct values\n",
      "race has 5 distinct values\n",
      "sex has 2 distinct values\n",
      "capital-gain has 119 distinct values\n",
      "capital-loss has 92 distinct values\n",
      "hours-per-week has 94 distinct values\n",
      "native-country has 42 distinct values\n",
      "salary has 2 distinct values\n"
     ]
    }
   ],
   "source": [
    "domain = {}\n",
    "\n",
    "for column in columns:\n",
    "    domain[column] = sorted(df[column].unique())\n",
    "    print(f'{column} has {len(domain[column])} distinct values')"
   ]
  },
  {
   "cell_type": "markdown",
   "metadata": {},
   "source": [
    "### Discretize the integer/float attributes\n",
    "\n",
    "**TODO**: please define the attributes to discretize."
   ]
  },
  {
   "cell_type": "code",
   "execution_count": 5,
   "metadata": {
    "ExecuteTime": {
     "end_time": "2021-08-03T09:48:39.240276Z",
     "start_time": "2021-08-03T09:48:39.201212Z"
    }
   },
   "outputs": [],
   "source": [
    "# Age:  0 => [17, 26[  |  1 => [26, 62[  |  2 => [62, 91[\n",
    "domain['age'] = list(range(3))\n",
    "\n",
    "# Final weight: 0 => [12285, 100000[  |  1 => [100000, 200000[  |  2 => [200000, 300000[  |  3 => [300000, 400000[\n",
    "#               4 => [400000, 500000[  |  5 => [500000, 1484706[\n",
    "domain['fnlwgt'] = list(range(6))\n",
    "\n",
    "# Capital gain: 0 => [0, 5000[  |  1 => [5000, 10000[  |  2 => [10000, 20000[  |  3 => [20000, 100000[\n",
    "domain['capital-gain'] = list(range(4))\n",
    "\n",
    "# Capital loss: 0 => [0, 1000[  |  1 => [1000, 2000[  |  2 => [2000, 3000[  |  3 => [3000, 4357[\n",
    "domain['capital-loss'] = list(range(4))\n",
    "\n",
    "# Hours per week: 0 => [0, 25[  |  1 => [25, 50[  |  2 => [50, 75[  |  3 => [75, 100[\n",
    "domain['hours-per-week'] = list(range(4))"
   ]
  },
  {
   "cell_type": "markdown",
   "metadata": {},
   "source": [
    "### Save the domain in json format"
   ]
  },
  {
   "cell_type": "code",
   "execution_count": 6,
   "metadata": {
    "ExecuteTime": {
     "end_time": "2021-08-03T09:48:39.791420Z",
     "start_time": "2021-08-03T09:48:39.778883Z"
    }
   },
   "outputs": [
    {
     "name": "stdout",
     "output_type": "stream",
     "text": [
      "{'age': [0, 1, 2], 'workclass': ['?', 'Federal-gov', 'Local-gov', 'Never-worked', 'Private', 'Self-emp-inc', 'Self-emp-not-inc', 'State-gov', 'Without-pay'], 'fnlwgt': [0, 1, 2, 3, 4, 5], 'education': ['10th', '11th', '12th', '1st-4th', '5th-6th', '7th-8th', '9th', 'Assoc-acdm', 'Assoc-voc', 'Bachelors', 'Doctorate', 'HS-grad', 'Masters', 'Preschool', 'Prof-school', 'Some-college'], 'education-num': [1, 2, 3, 4, 5, 6, 7, 8, 9, 10, 11, 12, 13, 14, 15, 16], 'marital-status': ['Divorced', 'Married-AF-spouse', 'Married-civ-spouse', 'Married-spouse-absent', 'Never-married', 'Separated', 'Widowed'], 'occupation': ['?', 'Adm-clerical', 'Armed-Forces', 'Craft-repair', 'Exec-managerial', 'Farming-fishing', 'Handlers-cleaners', 'Machine-op-inspct', 'Other-service', 'Priv-house-serv', 'Prof-specialty', 'Protective-serv', 'Sales', 'Tech-support', 'Transport-moving'], 'relationship': ['Husband', 'Not-in-family', 'Other-relative', 'Own-child', 'Unmarried', 'Wife'], 'race': ['Amer-Indian-Eskimo', 'Asian-Pac-Islander', 'Black', 'Other', 'White'], 'sex': ['Female', 'Male'], 'capital-gain': [0, 1, 2, 3], 'capital-loss': [0, 1, 2, 3], 'hours-per-week': [0, 1, 2, 3], 'native-country': ['?', 'Cambodia', 'Canada', 'China', 'Columbia', 'Cuba', 'Dominican-Republic', 'Ecuador', 'El-Salvador', 'England', 'France', 'Germany', 'Greece', 'Guatemala', 'Haiti', 'Holand-Netherlands', 'Honduras', 'Hong', 'Hungary', 'India', 'Iran', 'Ireland', 'Italy', 'Jamaica', 'Japan', 'Laos', 'Mexico', 'Nicaragua', 'Outlying-US(Guam-USVI-etc)', 'Peru', 'Philippines', 'Poland', 'Portugal', 'Puerto-Rico', 'Scotland', 'South', 'Taiwan', 'Thailand', 'Trinadad&Tobago', 'United-States', 'Vietnam', 'Yugoslavia'], 'salary': ['<=50K', '>50K']}\n"
     ]
    }
   ],
   "source": [
    "print(domain)  # Final version of the domains"
   ]
  },
  {
   "cell_type": "code",
   "execution_count": 7,
   "metadata": {
    "ExecuteTime": {
     "end_time": "2021-08-03T09:48:41.921033Z",
     "start_time": "2021-08-03T09:48:41.881407Z"
    }
   },
   "outputs": [],
   "source": [
    "class NpEncoder(json.JSONEncoder):\n",
    "    \"\"\"\n",
    "    Custom Encoder to support numpy types.\n",
    "    \n",
    "    Source: https://stackoverflow.com/a/57915246/4075096.\n",
    "    \"\"\"\n",
    "    def default(self, obj):\n",
    "        if isinstance(obj, np.integer):\n",
    "            return int(obj)\n",
    "        elif isinstance(obj, np.floating):\n",
    "            return float(obj)\n",
    "        elif isinstance(obj, np.ndarray):\n",
    "            return obj.tolist()\n",
    "        else:\n",
    "            return super(NpEncoder, self).default(obj)"
   ]
  },
  {
   "cell_type": "code",
   "execution_count": 8,
   "metadata": {
    "ExecuteTime": {
     "end_time": "2021-08-03T09:48:42.457197Z",
     "start_time": "2021-08-03T09:48:42.434498Z"
    }
   },
   "outputs": [],
   "source": [
    "json.dump(domain, open(DATA_PATH / 'adult-domain.json', 'w+'), cls=NpEncoder)"
   ]
  }
 ],
 "metadata": {
  "kernelspec": {
   "display_name": "Python 3",
   "language": "python",
   "name": "python3"
  },
  "language_info": {
   "codemirror_mode": {
    "name": "ipython",
    "version": 3
   },
   "file_extension": ".py",
   "mimetype": "text/x-python",
   "name": "python",
   "nbconvert_exporter": "python",
   "pygments_lexer": "ipython3",
   "version": "3.8.11"
  },
  "varInspector": {
   "cols": {
    "lenName": 16,
    "lenType": 16,
    "lenVar": 40
   },
   "kernels_config": {
    "python": {
     "delete_cmd_postfix": "",
     "delete_cmd_prefix": "del ",
     "library": "var_list.py",
     "varRefreshCmd": "print(var_dic_list())"
    },
    "r": {
     "delete_cmd_postfix": ") ",
     "delete_cmd_prefix": "rm(",
     "library": "var_list.r",
     "varRefreshCmd": "cat(var_dic_list()) "
    }
   },
   "types_to_exclude": [
    "module",
    "function",
    "builtin_function_or_method",
    "instance",
    "_Feature"
   ],
   "window_display": false
  }
 },
 "nbformat": 4,
 "nbformat_minor": 2
}
