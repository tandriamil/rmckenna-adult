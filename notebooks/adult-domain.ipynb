{
 "cells": [
  {
   "cell_type": "markdown",
   "metadata": {},
   "source": [
    "Adult Dataset - Domain\n",
    "===================\n",
    "\n",
    "In this notebook, we infer the domain of the attributes of the adult dataset."
   ]
  },
  {
   "cell_type": "code",
   "execution_count": 1,
   "metadata": {
    "ExecuteTime": {
     "end_time": "2021-08-03T13:39:30.525653Z",
     "start_time": "2021-08-03T13:39:30.178798Z"
    }
   },
   "outputs": [],
   "source": [
    "import json\n",
    "from pathlib import Path\n",
    "\n",
    "import numpy as np\n",
    "import pandas as pd"
   ]
  },
  {
   "cell_type": "markdown",
   "metadata": {},
   "source": [
    "### Read the dataset\n",
    "\n",
    "**TODO**: please configure `DATA_PATH`."
   ]
  },
  {
   "cell_type": "code",
   "execution_count": 2,
   "metadata": {
    "ExecuteTime": {
     "end_time": "2021-08-03T13:39:30.664968Z",
     "start_time": "2021-08-03T13:39:30.530455Z"
    }
   },
   "outputs": [
    {
     "data": {
      "text/html": [
       "<div>\n",
       "<style scoped>\n",
       "    .dataframe tbody tr th:only-of-type {\n",
       "        vertical-align: middle;\n",
       "    }\n",
       "\n",
       "    .dataframe tbody tr th {\n",
       "        vertical-align: top;\n",
       "    }\n",
       "\n",
       "    .dataframe thead th {\n",
       "        text-align: right;\n",
       "    }\n",
       "</style>\n",
       "<table border=\"1\" class=\"dataframe\">\n",
       "  <thead>\n",
       "    <tr style=\"text-align: right;\">\n",
       "      <th></th>\n",
       "      <th>age</th>\n",
       "      <th>workclass</th>\n",
       "      <th>fnlwgt</th>\n",
       "      <th>education</th>\n",
       "      <th>education-num</th>\n",
       "      <th>marital-status</th>\n",
       "      <th>occupation</th>\n",
       "      <th>relationship</th>\n",
       "      <th>race</th>\n",
       "      <th>sex</th>\n",
       "      <th>capital-gain</th>\n",
       "      <th>capital-loss</th>\n",
       "      <th>hours-per-week</th>\n",
       "      <th>native-country</th>\n",
       "      <th>salary</th>\n",
       "    </tr>\n",
       "  </thead>\n",
       "  <tbody>\n",
       "    <tr>\n",
       "      <th>12267</th>\n",
       "      <td>28</td>\n",
       "      <td>Private</td>\n",
       "      <td>160731</td>\n",
       "      <td>HS-grad</td>\n",
       "      <td>9</td>\n",
       "      <td>Married-civ-spouse</td>\n",
       "      <td>Craft-repair</td>\n",
       "      <td>Husband</td>\n",
       "      <td>White</td>\n",
       "      <td>Male</td>\n",
       "      <td>0</td>\n",
       "      <td>0</td>\n",
       "      <td>40</td>\n",
       "      <td>Poland</td>\n",
       "      <td>&gt;50K</td>\n",
       "    </tr>\n",
       "    <tr>\n",
       "      <th>23064</th>\n",
       "      <td>26</td>\n",
       "      <td>Private</td>\n",
       "      <td>371556</td>\n",
       "      <td>Some-college</td>\n",
       "      <td>10</td>\n",
       "      <td>Never-married</td>\n",
       "      <td>Adm-clerical</td>\n",
       "      <td>Not-in-family</td>\n",
       "      <td>White</td>\n",
       "      <td>Female</td>\n",
       "      <td>0</td>\n",
       "      <td>0</td>\n",
       "      <td>40</td>\n",
       "      <td>United-States</td>\n",
       "      <td>&lt;=50K</td>\n",
       "    </tr>\n",
       "    <tr>\n",
       "      <th>16380</th>\n",
       "      <td>34</td>\n",
       "      <td>Private</td>\n",
       "      <td>118584</td>\n",
       "      <td>Bachelors</td>\n",
       "      <td>13</td>\n",
       "      <td>Never-married</td>\n",
       "      <td>Exec-managerial</td>\n",
       "      <td>Not-in-family</td>\n",
       "      <td>White</td>\n",
       "      <td>Female</td>\n",
       "      <td>0</td>\n",
       "      <td>0</td>\n",
       "      <td>40</td>\n",
       "      <td>United-States</td>\n",
       "      <td>&lt;=50K</td>\n",
       "    </tr>\n",
       "    <tr>\n",
       "      <th>10179</th>\n",
       "      <td>43</td>\n",
       "      <td>Self-emp-inc</td>\n",
       "      <td>35662</td>\n",
       "      <td>Doctorate</td>\n",
       "      <td>16</td>\n",
       "      <td>Married-civ-spouse</td>\n",
       "      <td>Prof-specialty</td>\n",
       "      <td>Wife</td>\n",
       "      <td>White</td>\n",
       "      <td>Female</td>\n",
       "      <td>0</td>\n",
       "      <td>0</td>\n",
       "      <td>70</td>\n",
       "      <td>United-States</td>\n",
       "      <td>&gt;50K</td>\n",
       "    </tr>\n",
       "    <tr>\n",
       "      <th>7475</th>\n",
       "      <td>38</td>\n",
       "      <td>Private</td>\n",
       "      <td>193026</td>\n",
       "      <td>HS-grad</td>\n",
       "      <td>9</td>\n",
       "      <td>Never-married</td>\n",
       "      <td>Other-service</td>\n",
       "      <td>Unmarried</td>\n",
       "      <td>White</td>\n",
       "      <td>Male</td>\n",
       "      <td>0</td>\n",
       "      <td>1408</td>\n",
       "      <td>40</td>\n",
       "      <td>?</td>\n",
       "      <td>&lt;=50K</td>\n",
       "    </tr>\n",
       "    <tr>\n",
       "      <th>3501</th>\n",
       "      <td>31</td>\n",
       "      <td>Private</td>\n",
       "      <td>283268</td>\n",
       "      <td>Bachelors</td>\n",
       "      <td>13</td>\n",
       "      <td>Never-married</td>\n",
       "      <td>Prof-specialty</td>\n",
       "      <td>Unmarried</td>\n",
       "      <td>White</td>\n",
       "      <td>Female</td>\n",
       "      <td>0</td>\n",
       "      <td>0</td>\n",
       "      <td>36</td>\n",
       "      <td>United-States</td>\n",
       "      <td>&lt;=50K</td>\n",
       "    </tr>\n",
       "    <tr>\n",
       "      <th>19988</th>\n",
       "      <td>38</td>\n",
       "      <td>Self-emp-inc</td>\n",
       "      <td>299036</td>\n",
       "      <td>Bachelors</td>\n",
       "      <td>13</td>\n",
       "      <td>Married-civ-spouse</td>\n",
       "      <td>Sales</td>\n",
       "      <td>Husband</td>\n",
       "      <td>White</td>\n",
       "      <td>Male</td>\n",
       "      <td>0</td>\n",
       "      <td>0</td>\n",
       "      <td>55</td>\n",
       "      <td>United-States</td>\n",
       "      <td>&gt;50K</td>\n",
       "    </tr>\n",
       "    <tr>\n",
       "      <th>3773</th>\n",
       "      <td>74</td>\n",
       "      <td>?</td>\n",
       "      <td>95825</td>\n",
       "      <td>Some-college</td>\n",
       "      <td>10</td>\n",
       "      <td>Widowed</td>\n",
       "      <td>?</td>\n",
       "      <td>Not-in-family</td>\n",
       "      <td>White</td>\n",
       "      <td>Female</td>\n",
       "      <td>0</td>\n",
       "      <td>0</td>\n",
       "      <td>3</td>\n",
       "      <td>United-States</td>\n",
       "      <td>&lt;=50K</td>\n",
       "    </tr>\n",
       "    <tr>\n",
       "      <th>21345</th>\n",
       "      <td>54</td>\n",
       "      <td>Private</td>\n",
       "      <td>175262</td>\n",
       "      <td>7th-8th</td>\n",
       "      <td>4</td>\n",
       "      <td>Married-civ-spouse</td>\n",
       "      <td>Machine-op-inspct</td>\n",
       "      <td>Husband</td>\n",
       "      <td>White</td>\n",
       "      <td>Male</td>\n",
       "      <td>0</td>\n",
       "      <td>0</td>\n",
       "      <td>40</td>\n",
       "      <td>United-States</td>\n",
       "      <td>&lt;=50K</td>\n",
       "    </tr>\n",
       "    <tr>\n",
       "      <th>16680</th>\n",
       "      <td>20</td>\n",
       "      <td>State-gov</td>\n",
       "      <td>39478</td>\n",
       "      <td>Some-college</td>\n",
       "      <td>10</td>\n",
       "      <td>Never-married</td>\n",
       "      <td>Exec-managerial</td>\n",
       "      <td>Own-child</td>\n",
       "      <td>White</td>\n",
       "      <td>Male</td>\n",
       "      <td>0</td>\n",
       "      <td>0</td>\n",
       "      <td>54</td>\n",
       "      <td>United-States</td>\n",
       "      <td>&lt;=50K</td>\n",
       "    </tr>\n",
       "  </tbody>\n",
       "</table>\n",
       "</div>"
      ],
      "text/plain": [
       "       age     workclass  fnlwgt     education  education-num  \\\n",
       "12267   28       Private  160731       HS-grad              9   \n",
       "23064   26       Private  371556  Some-college             10   \n",
       "16380   34       Private  118584     Bachelors             13   \n",
       "10179   43  Self-emp-inc   35662     Doctorate             16   \n",
       "7475    38       Private  193026       HS-grad              9   \n",
       "3501    31       Private  283268     Bachelors             13   \n",
       "19988   38  Self-emp-inc  299036     Bachelors             13   \n",
       "3773    74             ?   95825  Some-college             10   \n",
       "21345   54       Private  175262       7th-8th              4   \n",
       "16680   20     State-gov   39478  Some-college             10   \n",
       "\n",
       "           marital-status         occupation   relationship   race     sex  \\\n",
       "12267  Married-civ-spouse       Craft-repair        Husband  White    Male   \n",
       "23064       Never-married       Adm-clerical  Not-in-family  White  Female   \n",
       "16380       Never-married    Exec-managerial  Not-in-family  White  Female   \n",
       "10179  Married-civ-spouse     Prof-specialty           Wife  White  Female   \n",
       "7475        Never-married      Other-service      Unmarried  White    Male   \n",
       "3501        Never-married     Prof-specialty      Unmarried  White  Female   \n",
       "19988  Married-civ-spouse              Sales        Husband  White    Male   \n",
       "3773              Widowed                  ?  Not-in-family  White  Female   \n",
       "21345  Married-civ-spouse  Machine-op-inspct        Husband  White    Male   \n",
       "16680       Never-married    Exec-managerial      Own-child  White    Male   \n",
       "\n",
       "       capital-gain  capital-loss  hours-per-week native-country salary  \n",
       "12267             0             0              40         Poland   >50K  \n",
       "23064             0             0              40  United-States  <=50K  \n",
       "16380             0             0              40  United-States  <=50K  \n",
       "10179             0             0              70  United-States   >50K  \n",
       "7475              0          1408              40              ?  <=50K  \n",
       "3501              0             0              36  United-States  <=50K  \n",
       "19988             0             0              55  United-States   >50K  \n",
       "3773              0             0               3  United-States  <=50K  \n",
       "21345             0             0              40  United-States  <=50K  \n",
       "16680             0             0              54  United-States  <=50K  "
      ]
     },
     "execution_count": 2,
     "metadata": {},
     "output_type": "execute_result"
    }
   ],
   "source": [
    "DATA_PATH = Path('/home/nap/Workspace/Privacy-DARC/rmckenna-adult/data')  # Where to save the domain informations\n",
    "ADULT_DATASET_PATH = DATA_PATH / Path('adult.csv')\n",
    "\n",
    "df = pd.read_csv(ADULT_DATASET_PATH)\n",
    "df.sample(10)"
   ]
  },
  {
   "cell_type": "markdown",
   "metadata": {},
   "source": [
    "### Infer the columns (= attributes)"
   ]
  },
  {
   "cell_type": "code",
   "execution_count": 3,
   "metadata": {
    "ExecuteTime": {
     "end_time": "2021-08-03T13:39:30.675233Z",
     "start_time": "2021-08-03T13:39:30.667040Z"
    }
   },
   "outputs": [
    {
     "data": {
      "text/plain": [
       "['age',\n",
       " 'workclass',\n",
       " 'fnlwgt',\n",
       " 'education',\n",
       " 'education-num',\n",
       " 'marital-status',\n",
       " 'occupation',\n",
       " 'relationship',\n",
       " 'race',\n",
       " 'sex',\n",
       " 'capital-gain',\n",
       " 'capital-loss',\n",
       " 'hours-per-week',\n",
       " 'native-country',\n",
       " 'salary']"
      ]
     },
     "execution_count": 3,
     "metadata": {},
     "output_type": "execute_result"
    }
   ],
   "source": [
    "columns = list(df.columns)\n",
    "columns"
   ]
  },
  {
   "cell_type": "markdown",
   "metadata": {},
   "source": [
    "### Infer the domain of each attribute\n",
    "\n",
    "Note that the attributes are considered as being categorical."
   ]
  },
  {
   "cell_type": "code",
   "execution_count": 4,
   "metadata": {
    "ExecuteTime": {
     "end_time": "2021-08-03T13:39:30.732216Z",
     "start_time": "2021-08-03T13:39:30.677821Z"
    },
    "scrolled": true
   },
   "outputs": [
    {
     "name": "stdout",
     "output_type": "stream",
     "text": [
      "age has 73 distinct values\n",
      "workclass has 9 distinct values\n",
      "fnlwgt has 21648 distinct values\n",
      "education has 16 distinct values\n",
      "education-num has 16 distinct values\n",
      "marital-status has 7 distinct values\n",
      "occupation has 15 distinct values\n",
      "relationship has 6 distinct values\n",
      "race has 5 distinct values\n",
      "sex has 2 distinct values\n",
      "capital-gain has 119 distinct values\n",
      "capital-loss has 92 distinct values\n",
      "hours-per-week has 94 distinct values\n",
      "native-country has 42 distinct values\n",
      "salary has 2 distinct values\n"
     ]
    }
   ],
   "source": [
    "domain = {}\n",
    "\n",
    "for column in columns:\n",
    "    domain[column] = sorted(df[column].unique())\n",
    "    print(f'{column} has {len(domain[column])} distinct values')"
   ]
  },
  {
   "cell_type": "markdown",
   "metadata": {},
   "source": [
    "### Discretize the integer/float attributes\n",
    "\n",
    "**TODO**: please define the attributes to discretize."
   ]
  },
  {
   "cell_type": "code",
   "execution_count": 5,
   "metadata": {
    "ExecuteTime": {
     "end_time": "2021-08-03T13:39:30.750119Z",
     "start_time": "2021-08-03T13:39:30.734794Z"
    }
   },
   "outputs": [],
   "source": [
    "# Age:  0 => [17, 26[  |  1 => [26, 62[  |  2 => [62, 100[\n",
    "# Real values: (min: 17, max: 90)\n",
    "domain['age'] = list(range(3))\n",
    "\n",
    "# Final weight: 0 => [10000, 100000[  |  1 => [100000, 200000[  |  2 => [200000, 300000[  |  3 => [300000, 400000[\n",
    "#               4 => [400000, 500000[  |  5 => [500000, 1500000[\n",
    "# Real values: (min: 12285, max: 1484705)\n",
    "domain['fnlwgt'] = list(range(6))\n",
    "\n",
    "# Capital gain: 0 => [0, 5000[  |  1 => [5000, 10000[  |  2 => [10000, 20000[  |  3 => [20000, 100000[\n",
    "# Real values: (min: 0, max: 99999)\n",
    "domain['capital-gain'] = list(range(4))\n",
    "\n",
    "# Capital loss: 0 => [0, 1000[  |  1 => [1000, 2000[  |  2 => [2000, 3000[  |  3 => [3000, 4000[\n",
    "#               4 => [4000, 5000[\n",
    "# Real values: (min: 0, max: 4356)\n",
    "domain['capital-loss'] = list(range(5))\n",
    "\n",
    "# Hours per week: 0 => [0, 25[  |  1 => [25, 50[  |  2 => [50, 75[  |  3 => [75, 100[\n",
    "# Real values: (min: 0, max: 99)\n",
    "domain['hours-per-week'] = list(range(4))"
   ]
  },
  {
   "cell_type": "markdown",
   "metadata": {},
   "source": [
    "### Save the domain in json format"
   ]
  },
  {
   "cell_type": "code",
   "execution_count": 6,
   "metadata": {
    "ExecuteTime": {
     "end_time": "2021-08-03T13:39:30.766378Z",
     "start_time": "2021-08-03T13:39:30.752821Z"
    }
   },
   "outputs": [
    {
     "name": "stdout",
     "output_type": "stream",
     "text": [
      "{'age': [0, 1, 2], 'workclass': ['?', 'Federal-gov', 'Local-gov', 'Never-worked', 'Private', 'Self-emp-inc', 'Self-emp-not-inc', 'State-gov', 'Without-pay'], 'fnlwgt': [0, 1, 2, 3, 4, 5], 'education': ['10th', '11th', '12th', '1st-4th', '5th-6th', '7th-8th', '9th', 'Assoc-acdm', 'Assoc-voc', 'Bachelors', 'Doctorate', 'HS-grad', 'Masters', 'Preschool', 'Prof-school', 'Some-college'], 'education-num': [1, 2, 3, 4, 5, 6, 7, 8, 9, 10, 11, 12, 13, 14, 15, 16], 'marital-status': ['Divorced', 'Married-AF-spouse', 'Married-civ-spouse', 'Married-spouse-absent', 'Never-married', 'Separated', 'Widowed'], 'occupation': ['?', 'Adm-clerical', 'Armed-Forces', 'Craft-repair', 'Exec-managerial', 'Farming-fishing', 'Handlers-cleaners', 'Machine-op-inspct', 'Other-service', 'Priv-house-serv', 'Prof-specialty', 'Protective-serv', 'Sales', 'Tech-support', 'Transport-moving'], 'relationship': ['Husband', 'Not-in-family', 'Other-relative', 'Own-child', 'Unmarried', 'Wife'], 'race': ['Amer-Indian-Eskimo', 'Asian-Pac-Islander', 'Black', 'Other', 'White'], 'sex': ['Female', 'Male'], 'capital-gain': [0, 1, 2, 3], 'capital-loss': [0, 1, 2, 3, 4], 'hours-per-week': [0, 1, 2, 3], 'native-country': ['?', 'Cambodia', 'Canada', 'China', 'Columbia', 'Cuba', 'Dominican-Republic', 'Ecuador', 'El-Salvador', 'England', 'France', 'Germany', 'Greece', 'Guatemala', 'Haiti', 'Holand-Netherlands', 'Honduras', 'Hong', 'Hungary', 'India', 'Iran', 'Ireland', 'Italy', 'Jamaica', 'Japan', 'Laos', 'Mexico', 'Nicaragua', 'Outlying-US(Guam-USVI-etc)', 'Peru', 'Philippines', 'Poland', 'Portugal', 'Puerto-Rico', 'Scotland', 'South', 'Taiwan', 'Thailand', 'Trinadad&Tobago', 'United-States', 'Vietnam', 'Yugoslavia'], 'salary': ['<=50K', '>50K']}\n"
     ]
    }
   ],
   "source": [
    "print(domain)  # Final version of the domains"
   ]
  },
  {
   "cell_type": "code",
   "execution_count": 7,
   "metadata": {
    "ExecuteTime": {
     "end_time": "2021-08-03T13:39:30.777545Z",
     "start_time": "2021-08-03T13:39:30.769389Z"
    }
   },
   "outputs": [],
   "source": [
    "class NpEncoder(json.JSONEncoder):\n",
    "    \"\"\"\n",
    "    Custom Encoder to support numpy types.\n",
    "    \n",
    "    Source: https://stackoverflow.com/a/57915246/4075096.\n",
    "    \"\"\"\n",
    "    def default(self, obj):\n",
    "        if isinstance(obj, np.integer):\n",
    "            return int(obj)\n",
    "        elif isinstance(obj, np.floating):\n",
    "            return float(obj)\n",
    "        elif isinstance(obj, np.ndarray):\n",
    "            return obj.tolist()\n",
    "        else:\n",
    "            return super(NpEncoder, self).default(obj)"
   ]
  },
  {
   "cell_type": "code",
   "execution_count": 8,
   "metadata": {
    "ExecuteTime": {
     "end_time": "2021-08-03T13:39:30.785458Z",
     "start_time": "2021-08-03T13:39:30.780020Z"
    }
   },
   "outputs": [],
   "source": [
    "json.dump(domain, open(DATA_PATH / 'adult-domain.json', 'w+'), cls=NpEncoder)"
   ]
  }
 ],
 "metadata": {
  "kernelspec": {
   "display_name": "Python 3",
   "language": "python",
   "name": "python3"
  },
  "language_info": {
   "codemirror_mode": {
    "name": "ipython",
    "version": 3
   },
   "file_extension": ".py",
   "mimetype": "text/x-python",
   "name": "python",
   "nbconvert_exporter": "python",
   "pygments_lexer": "ipython3",
   "version": "3.8.11"
  },
  "varInspector": {
   "cols": {
    "lenName": 16,
    "lenType": 16,
    "lenVar": 40
   },
   "kernels_config": {
    "python": {
     "delete_cmd_postfix": "",
     "delete_cmd_prefix": "del ",
     "library": "var_list.py",
     "varRefreshCmd": "print(var_dic_list())"
    },
    "r": {
     "delete_cmd_postfix": ") ",
     "delete_cmd_prefix": "rm(",
     "library": "var_list.r",
     "varRefreshCmd": "cat(var_dic_list()) "
    }
   },
   "types_to_exclude": [
    "module",
    "function",
    "builtin_function_or_method",
    "instance",
    "_Feature"
   ],
   "window_display": false
  }
 },
 "nbformat": 4,
 "nbformat_minor": 2
}
